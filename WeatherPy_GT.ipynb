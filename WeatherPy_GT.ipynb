{
 "cells": [
  {
   "cell_type": "markdown",
   "metadata": {},
   "source": [
    "**WeatherPy Homework \n",
    "(October 22, 2019)  \n",
    "by Gerard Tieng**  \n",
    "\n",
    "---"
   ]
  },
  {
   "cell_type": "markdown",
   "metadata": {},
   "source": [
    "**Objectives\n",
    "\n",
    "• Use Citipi to select 500 cities at random based on coordinates\n",
    "• Use Openweathermap API to source weather values for each city\n",
    "• Use Pandas to create and manage a readable dataframe of the data\n",
    "• Use Matplotlib to create scatterplots of the following information:\n",
    "1. Temperature (F) vs. Latitude\n",
    "2. Humidity (%) vs. Latitude\n",
    "3. Cloudiness (%) vs. Latitude\n",
    "4. Wind Speed (mph) vs. Latitude"
   ]
  },
  {
   "cell_type": "code",
   "execution_count": null,
   "metadata": {},
   "outputs": [],
   "source": []
  }
 ],
 "metadata": {
  "kernelspec": {
   "display_name": "Python 3",
   "language": "python",
   "name": "python3"
  },
  "language_info": {
   "codemirror_mode": {
    "name": "ipython",
    "version": 3
   },
   "file_extension": ".py",
   "mimetype": "text/x-python",
   "name": "python",
   "nbconvert_exporter": "python",
   "pygments_lexer": "ipython3",
   "version": "3.7.3"
  }
 },
 "nbformat": 4,
 "nbformat_minor": 4
}
