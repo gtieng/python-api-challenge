{
 "cells": [
  {
   "cell_type": "markdown",
   "metadata": {},
   "source": [
    "**WeatherPy Homework \n",
    "(October 22, 2019)  \n",
    "by Gerard Tieng**  \n",
    "\n",
    "---"
   ]
  },
  {
   "cell_type": "markdown",
   "metadata": {},
   "source": [
    "**Objectives**\n",
    "\n",
    "• Use Citipy to select 500 cities at random based on coordinates  \n",
    "• Use Openweathermap API to source weather values for each city  \n",
    "• Use Pandas to create and manage a readable dataframe of the data  \n",
    "• Use Matplotlib to create scatterplots of the following information:  \n",
    "\n",
    "1. Temperature (F) vs. Latitude\n",
    "2. Humidity (%) vs. Latitude\n",
    "3. Cloudiness (%) vs. Latitude\n",
    "4. Wind Speed (mph) vs. Latitude"
   ]
  },
  {
   "cell_type": "markdown",
   "metadata": {},
   "source": [
    "# Pre-work"
   ]
  },
  {
   "cell_type": "code",
   "execution_count": 1,
   "metadata": {},
   "outputs": [],
   "source": [
    "#import libraries\n",
    "import matplotlib.pyplot as plt\n",
    "import pandas as pd\n",
    "import numpy as np\n",
    "import requests\n",
    "from citipy import citipy\n",
    "\n",
    "\n",
    "#import API key\n",
    "from api_keys import api_key\n",
    "\n",
    "\n",
    "# **NOTE: Range of latitudes and longitudes below**\n",
    "# http://www.geomidpoint.com/latlon.html\n",
    "lat_range = (-90, 90)\n",
    "lng_range = (-180, 180)"
   ]
  },
  {
   "cell_type": "markdown",
   "metadata": {},
   "source": [
    "# Random Cities Selection"
   ]
  },
  {
   "cell_type": "markdown",
   "metadata": {},
   "source": [
    "**Method**\n",
    "1. generate random latitudes\n",
    "2. generate random longitudes\n",
    "3. zip latitude & longitude to create citipy coordinate\n",
    "4. execute loop to create list of 500 cities"
   ]
  },
  {
   "cell_type": "code",
   "execution_count": 2,
   "metadata": {},
   "outputs": [],
   "source": [
    "#1, use np.random.uniform() to select float numbers from latitude & longitude range\n",
    "rand_lat = np.random.uniform(low= -90.000, high= 90.000, size= 1500)\n",
    "rand_long = np.random.uniform(low= -180.000, high= 180.000, size= 1500)\n",
    "\n",
    "#zip coordinates into a list holder\n",
    "rand_coordinates = []\n",
    "rand_coordinates = zip(rand_lat, rand_long)"
   ]
  },
  {
   "cell_type": "code",
   "execution_count": 3,
   "metadata": {},
   "outputs": [
    {
     "data": {
      "text/plain": [
       "622"
      ]
     },
     "execution_count": 3,
     "metadata": {},
     "output_type": "execute_result"
    }
   ],
   "source": [
    "#execute citipy loop to list 500 cities in city holder list\n",
    "cities = []\n",
    "for coordinates in rand_coordinates:\n",
    "    city = citipy.nearest_city(coordinates[0], coordinates[1]).city_name\n",
    "    \n",
    "    # If the city is unique, then add it to a our cities list\n",
    "    if city not in cities:\n",
    "        cities.append(city)\n",
    "\n",
    "# Print the city count to confirm sufficient count\n",
    "len(cities)"
   ]
  }
 ],
 "metadata": {
  "kernelspec": {
   "display_name": "Python 3",
   "language": "python",
   "name": "python3"
  },
  "language_info": {
   "codemirror_mode": {
    "name": "ipython",
    "version": 3
   },
   "file_extension": ".py",
   "mimetype": "text/x-python",
   "name": "python",
   "nbconvert_exporter": "python",
   "pygments_lexer": "ipython3",
   "version": "3.7.3"
  }
 },
 "nbformat": 4,
 "nbformat_minor": 4
}
