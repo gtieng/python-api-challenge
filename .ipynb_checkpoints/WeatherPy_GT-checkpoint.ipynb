{
 "cells": [
  {
   "cell_type": "markdown",
   "metadata": {},
   "source": [
    "**WeatherPy Homework \n",
    "(October 22, 2019)  \n",
    "by Gerard Tieng**  \n",
    "\n",
    "---"
   ]
  },
  {
   "cell_type": "markdown",
   "metadata": {},
   "source": [
    "**Objectives**\n",
    "\n",
    "• Use Citipy to select 500 cities at random based on coordinates  \n",
    "• Use Openweathermap API to source weather values for each city  \n",
    "• Use Pandas to create and manage a readable dataframe of the data  \n",
    "• Use Matplotlib to create scatterplots of the following information:  \n",
    "\n",
    "1. Temperature (F) vs. Latitude\n",
    "2. Humidity (%) vs. Latitude\n",
    "3. Cloudiness (%) vs. Latitude\n",
    "4. Wind Speed (mph) vs. Latitude"
   ]
  },
  {
   "cell_type": "markdown",
   "metadata": {},
   "source": [
    "# Pre-work"
   ]
  },
  {
   "cell_type": "code",
   "execution_count": 1,
   "metadata": {},
   "outputs": [],
   "source": [
    "#import libraries\n",
    "import matplotlib.pyplot as plt\n",
    "import pandas as pd\n",
    "import numpy as np\n",
    "import requests\n",
    "from citipy import citipy\n",
    "\n",
    "\n",
    "#import API key\n",
    "from api_keys import api_key\n",
    "\n",
    "\n",
    "# **NOTE: Range of latitudes and longitudes below**\n",
    "# http://www.geomidpoint.com/latlon.html\n",
    "lat_range = (-90, 90)\n",
    "lng_range = (-180, 180)"
   ]
  },
  {
   "cell_type": "markdown",
   "metadata": {},
   "source": [
    "# Random Cities Selection"
   ]
  },
  {
   "cell_type": "markdown",
   "metadata": {},
   "source": [
    "**Method**\n",
    "1. generate random latitudes & longitudes\n",
    "2. zip latitude & longitude to create citipy coordinate\n",
    "3. execute citipy.nearest_city loop to create list of 500 cities"
   ]
  },
  {
   "cell_type": "code",
   "execution_count": 2,
   "metadata": {},
   "outputs": [],
   "source": [
    "#1 - use np.random.uniform() to select float numbers from latitude & longitude range\n",
    "rand_lat = np.random.uniform(low= -90.000, high= 90.000, size= 1500)\n",
    "rand_long = np.random.uniform(low= -180.000, high= 180.000, size= 1500)"
   ]
  },
  {
   "cell_type": "code",
   "execution_count": 3,
   "metadata": {},
   "outputs": [],
   "source": [
    "#2 - zip coordinates into a list holder\n",
    "rand_coordinates = []\n",
    "rand_coordinates = zip(rand_lat, rand_long)"
   ]
  },
  {
   "cell_type": "code",
   "execution_count": 4,
   "metadata": {},
   "outputs": [
    {
     "data": {
      "text/plain": [
       "636"
      ]
     },
     "execution_count": 4,
     "metadata": {},
     "output_type": "execute_result"
    }
   ],
   "source": [
    "#3 - execute citipy loop to list 500 cities in city holder list\n",
    "cities = []\n",
    "for coordinates in rand_coordinates:\n",
    "    city = citipy.nearest_city(coordinates[0], coordinates[1]).city_name\n",
    "    \n",
    "    # If the city is unique, then add it to a our cities list\n",
    "    if city not in cities:\n",
    "        cities.append(city)\n",
    "\n",
    "# Print the city count to confirm sufficient count\n",
    "len(cities)"
   ]
  },
  {
   "cell_type": "markdown",
   "metadata": {},
   "source": [
    "# API Calling: OpenWeatherMap API"
   ]
  },
  {
   "cell_type": "code",
   "execution_count": 16,
   "metadata": {},
   "outputs": [],
   "source": [
    "#baseurl includes api call, api key, imperial units\n",
    "base_url = f\"http://api.openweathermap.org/data/2.5/weather?appid={api_key}&units=imperial&q=\"\n",
    "\n",
    "#execute API loop to gather weather information for scatter plot\n",
    "temps = []\n",
    "humid = []\n",
    "wspeed = []\n",
    "clouds = []\n",
    "owm_lat = []\n",
    "\n",
    "#**NOTE: small test sample\n",
    "test = [\"alhambra\", \"seattle\"]\n",
    "holder = []\n",
    "for i in test:\n",
    "    weather_pull = requests.get(base_url + i)\n",
    "    weather_data = weather_pull.json()\n",
    "    owm_lat.append(weather_data[\"coord\"][\"lat\"])\n",
    "    temps.append(weather_data[\"main\"][\"temp\"])\n",
    "    humid.append(weather_data[\"main\"][\"humidity\"])\n",
    "    wspeed.append(weather_data[\"wind\"][\"speed\"])\n",
    "    clouds.append(weather_data[\"clouds\"][\"all\"])\n"
   ]
  },
  {
   "cell_type": "code",
   "execution_count": 19,
   "metadata": {},
   "outputs": [
    {
     "data": {
      "text/html": [
       "<div>\n",
       "<style scoped>\n",
       "    .dataframe tbody tr th:only-of-type {\n",
       "        vertical-align: middle;\n",
       "    }\n",
       "\n",
       "    .dataframe tbody tr th {\n",
       "        vertical-align: top;\n",
       "    }\n",
       "\n",
       "    .dataframe thead th {\n",
       "        text-align: right;\n",
       "    }\n",
       "</style>\n",
       "<table border=\"1\" class=\"dataframe\">\n",
       "  <thead>\n",
       "    <tr style=\"text-align: right;\">\n",
       "      <th></th>\n",
       "      <th>cities</th>\n",
       "      <th>latitude</th>\n",
       "      <th>temperature(F)</th>\n",
       "      <th>humidity</th>\n",
       "      <th>windspeed</th>\n",
       "      <th>clouds</th>\n",
       "    </tr>\n",
       "  </thead>\n",
       "  <tbody>\n",
       "    <tr>\n",
       "      <th>0</th>\n",
       "      <td>alhambra</td>\n",
       "      <td>34.09</td>\n",
       "      <td>70.70</td>\n",
       "      <td>56</td>\n",
       "      <td>3.36</td>\n",
       "      <td>40</td>\n",
       "    </tr>\n",
       "    <tr>\n",
       "      <th>1</th>\n",
       "      <td>seattle</td>\n",
       "      <td>47.60</td>\n",
       "      <td>53.46</td>\n",
       "      <td>76</td>\n",
       "      <td>12.75</td>\n",
       "      <td>90</td>\n",
       "    </tr>\n",
       "  </tbody>\n",
       "</table>\n",
       "</div>"
      ],
      "text/plain": [
       "     cities  latitude  temperature(F)  humidity  windspeed  clouds\n",
       "0  alhambra     34.09           70.70        56       3.36      40\n",
       "1   seattle     47.60           53.46        76      12.75      90"
      ]
     },
     "execution_count": 19,
     "metadata": {},
     "output_type": "execute_result"
    }
   ],
   "source": [
    "# assemble dataframe\n",
    "weather_df = {\"cities\": test,\n",
    "              \"latitude\": owm_lat, \n",
    "              \"temperature(F)\": temps, \n",
    "              \"humidity\": humid, \n",
    "              \"windspeed\": wspeed, \n",
    "              \"clouds\": clouds\n",
    "             }\n",
    "\n",
    "pd.DataFrame(weather_df)"
   ]
  },
  {
   "cell_type": "code",
   "execution_count": null,
   "metadata": {},
   "outputs": [],
   "source": []
  }
 ],
 "metadata": {
  "kernelspec": {
   "display_name": "Python 3",
   "language": "python",
   "name": "python3"
  },
  "language_info": {
   "codemirror_mode": {
    "name": "ipython",
    "version": 3
   },
   "file_extension": ".py",
   "mimetype": "text/x-python",
   "name": "python",
   "nbconvert_exporter": "python",
   "pygments_lexer": "ipython3",
   "version": "3.7.3"
  }
 },
 "nbformat": 4,
 "nbformat_minor": 4
}
